{
 "cells": [
  {
   "attachments": {},
   "cell_type": "markdown",
   "metadata": {},
   "source": [
    "## Esercizio - Guardaroba\n",
    "\n",
    "Produrre una sequenza di stringhe combinando due di input.\n",
    "\n",
    "- **NON** usare `range`\n",
    "- **USA UNA** sola list comprehension\n",
    "- il tuo codice deve stare in una riga sola\n",
    "\n",
    "Esempio - data:\n",
    "\n",
    "```python\n",
    "indumenti = ['cappotti', 'giacconi', 'mantelli', 'ventine']\n",
    "capi = [9,5,7,3]\n",
    "```\n",
    "\n",
    "Il tuo codice deve produrre:\n",
    "\n",
    "```python\n",
    "['ci sono 9 cappotti', 'ci sono 5 giacconi', 'ci sono 7 mantelli', \n",
    " 'ci sono 3 ventine']\n",
    "```"
   ]
  },
  {
   "cell_type": "code",
   "execution_count": 6,
   "metadata": {},
   "outputs": [
    {
     "name": "stdout",
     "output_type": "stream",
     "text": [
      "ci sono,{capi},{indumenti}\n",
      "ci sono,{capi},{indumenti}\n",
      "ci sono,{capi},{indumenti}\n",
      "ci sono,{capi},{indumenti}\n"
     ]
    }
   ],
   "source": [
    "indumenti = ['cappotti', 'giacconi', 'mantelli', 'ventine']\n",
    "capi = [9,5,7,3]\n",
    "\n",
    "# scrivi qui\n",
    "contenitore=[]\n",
    "for cose in enumerate(indumenti):\n",
    "    contenitore.append(cose)\n",
    "    print('ci sono,{capi},{indumenti}')\n"
   ]
  }
 ],
 "metadata": {
  "kernelspec": {
   "display_name": "Python 3",
   "language": "python",
   "name": "python3"
  },
  "language_info": {
   "codemirror_mode": {
    "name": "ipython",
    "version": 3
   },
   "file_extension": ".py",
   "mimetype": "text/x-python",
   "name": "python",
   "nbconvert_exporter": "python",
   "pygments_lexer": "ipython3",
   "version": "3.10.13"
  },
  "orig_nbformat": 4
 },
 "nbformat": 4,
 "nbformat_minor": 2
}
