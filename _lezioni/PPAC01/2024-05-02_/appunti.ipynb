{
 "cells": [
  {
   "attachments": {},
   "cell_type": "markdown",
   "metadata": {},
   "source": [
    "## Percorsi assoluti e relativi\n",
    "\n",
    "- Notebook [02.02_python_intro_shell.ipynb](../../../02.02_python_intro_shell.ipynb) alla sezione \"Operare con percorsi, file e cartelle\"\n",
    "\n",
    "- Notebook [07_python_files.ipynb](../../../07_python_files.ipynb) alla sezione \"Interagire con il file system\"\n",
    "\n",
    "- Notebook [L_files.ipynb](../../../L_files.ipynb) alla sezione \"Percorsi relativi e Current Working Directory\"\n",
    "\n",
    "\n",
    "\n"
   ]
  },
  {
   "attachments": {},
   "cell_type": "markdown",
   "metadata": {},
   "source": [
    "```python\n",
    "import csv\n",
    "import os\n",
    "\n",
    "# Ottiene il percorso assoluto dello script corrente\n",
    "script_path = os.path.abspath(__file__)\n",
    "\n",
    "# Ottiene la directory in cui risiede lo script\n",
    "script_dir = os.path.dirname(script_path)\n",
    "\n",
    "# Costruisce un percorso relativo alla directory dello script\n",
    "file_absolute_path = os.path.join(script_dir, 'botteghe-storiche.csv')\n",
    "\n",
    "with open(file_absolute_path, 'r', encoding='utf-8') as file_in:\n",
    "    ...\n",
    "    ...\n",
    "```"
   ]
  },
  {
   "attachments": {},
   "cell_type": "markdown",
   "metadata": {},
   "source": [
    "![immagine](../../../imgs/function_call_1.jpg)"
   ]
  }
 ],
 "metadata": {
  "language_info": {
   "name": "python"
  },
  "orig_nbformat": 4
 },
 "nbformat": 4,
 "nbformat_minor": 2
}
