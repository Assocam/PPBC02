{
 "cells": [
  {
   "cell_type": "markdown",
   "metadata": {},
   "source": [
    "## Web scraping"
   ]
  },
  {
   "cell_type": "markdown",
   "metadata": {},
   "source": [
    "### Fare pause di durata casuale tra una richieste HTTP e la successiva"
   ]
  },
  {
   "cell_type": "markdown",
   "metadata": {},
   "source": [
    "Per ottenere dei numeri casuali all'interno di un intervallo:"
   ]
  },
  {
   "cell_type": "code",
   "execution_count": 8,
   "metadata": {},
   "outputs": [
    {
     "name": "stdout",
     "output_type": "stream",
     "text": [
      "0.4469469990511349\n",
      "4.59343944246696\n",
      "4\n",
      "6.738963394821492\n"
     ]
    }
   ],
   "source": [
    "from random import randint, uniform, random\n",
    "\n",
    "print(random())        # numero casuale tra 0 e 1\n",
    "print(random() * 10)   # numero casuale tra 0 e 10\n",
    "print(randint(1, 10))  # numero casuale tra 1 e 10\n",
    "print(uniform(1, 10))  # numero casuale tra 1 e 10\n"
   ]
  },
  {
   "cell_type": "markdown",
   "metadata": {},
   "source": [
    "Per fare una pausa, che sospende l'esecuzione del codice in modo temporaneo, possiamo usare la funzione `sleep()` dal modulo built-in `time`:"
   ]
  },
  {
   "cell_type": "code",
   "execution_count": 9,
   "metadata": {},
   "outputs": [
    {
     "name": "stdout",
     "output_type": "stream",
     "text": [
      "Pippo, aspetta 3.276542233251874 secondi!\n",
      "Pippo, aspetta 2.3158174795360345 secondi!\n",
      "Pippo, aspetta 3.1412638585874553 secondi!\n",
      "Pippo, aspetta 2.181086664243215 secondi!\n",
      "Pippo, aspetta 2.788314701876284 secondi!\n"
     ]
    }
   ],
   "source": [
    "from time import sleep\n",
    "from random import uniform\n",
    "\n",
    "for n in range(5):\n",
    "    random_seconds = uniform(1, 4)\n",
    "    print(f'Pippo, aspetta {random_seconds} secondi!')\n",
    "    sleep(random_seconds)"
   ]
  },
  {
   "cell_type": "markdown",
   "metadata": {},
   "source": [
    "### Modificare l'User-Agent del client HTTP\n",
    "\n",
    "Di default, `requests` quando effettua una richiesta si identifica come \"python-requests/2.28.2\", il che palesa il fatto che siamo un \"bot\".\n",
    "\n",
    "Se volete \"camuffarvi\" da vero browser, potete usare un User-Agent di un browser!\n",
    "\n",
    "Gli User-Agent più comuni e più recenti, li potete trovare qua:\n",
    "\n",
    "- User-Agent di [Firefox](https://www.whatismybrowser.com/guides/the-latest-user-agent/firefox)\n",
    "- User-Agent di [Chrome](https://www.whatismybrowser.com/guides/the-latest-user-agent/chrome)\n",
    "\n",
    "Esistono anche molti siti che offrono elenchi degli User-Agent noti, basta fare qualche [ricerca sul web](https://www.google.com/search?q=user+agent+list).\n",
    "\n",
    "Tuttavia come abbiamo già detto, un normale browser invia molti altri dati negli header della richiesta, come per esempio informazioni sui cookie e altre utili al funzionamento del sito. Quindi, se il server a cui vi state collegando necessita di particolari header, dovete provvedere voi a impostarli in modo dorretto prima di effettuare la richiesta."
   ]
  },
  {
   "cell_type": "code",
   "execution_count": 17,
   "metadata": {},
   "outputs": [
    {
     "name": "stderr",
     "output_type": "stream",
     "text": [
      "/Users/knox/Repositories/python_training/python_corso_base/.venv/lib/python3.11/site-packages/urllib3/connectionpool.py:1045: InsecureRequestWarning: Unverified HTTPS request is being made to host 'scrapeme.live'. Adding certificate verification is strongly advised. See: https://urllib3.readthedocs.io/en/1.26.x/advanced-usage.html#ssl-warnings\n",
      "  warnings.warn(\n"
     ]
    },
    {
     "name": "stdout",
     "output_type": "stream",
     "text": [
      "{'Accept': '*/*',\n",
      " 'Accept-Encoding': 'gzip, deflate, br',\n",
      " 'Connection': 'keep-alive',\n",
      " 'User-Agent': 'Mozilla/5.0 (X11; Ubuntu; Linux i686; rv:109.0) Gecko/20100101 Firefox/113.0'}\n"
     ]
    }
   ],
   "source": [
    "from pprint import pprint\n",
    "import requests\n",
    "\n",
    "headers = {\n",
    "    'User-Agent': 'Mozilla/5.0 (X11; Ubuntu; Linux i686; rv:109.0) Gecko/20100101 Firefox/113.0'\n",
    "}\n",
    "\n",
    "# Mozilla/5.0 (Macintosh; Intel Mac OS X 10_15_7) AppleWebKit/537.36 (KHTML, like Gecko) Chrome/126.0.0.0 Safari/537.36\n",
    "\n",
    "response = requests.get('https://scrapeme.live/shop/', headers=headers, verify=False)\n",
    "\n",
    "pprint(dict(response.request.headers), width=100)"
   ]
  },
  {
   "cell_type": "markdown",
   "metadata": {},
   "source": [
    "## Lista di dizionari su Excel"
   ]
  },
  {
   "cell_type": "code",
   "execution_count": 21,
   "metadata": {},
   "outputs": [
    {
     "name": "stdout",
     "output_type": "stream",
     "text": [
      "Dati scritti con successo su output.xlsx\n"
     ]
    }
   ],
   "source": [
    "import pandas as pd\n",
    "\n",
    "# Lista di dizionari da scrivere su una tabella Excel\n",
    "data = [\n",
    "    {\"Nome\": \"Mario\", \"Età\": 30, \"Città\": \"Roma\"},\n",
    "    {\"Nome\": \"Luigi\", \"Età\": 25, \"Città\": \"Milano\"},\n",
    "    {\"Nome\": \"Anna\", \"Età\": 28, \"Città\": \"Napoli\"},\n",
    "]\n",
    "\n",
    "# Crea un DataFrame dalla lista di dizionari\n",
    "df = pd.DataFrame(data)\n",
    "\n",
    "# Scrive il DataFrame su un file Excel\n",
    "df.to_excel(\"output.xlsx\", index=True)\n",
    "\n",
    "print(\"Dati scritti con successo su output.xlsx\")"
   ]
  },
  {
   "cell_type": "markdown",
   "metadata": {},
   "source": [
    "## Lista di dizionari su CSV"
   ]
  },
  {
   "cell_type": "code",
   "execution_count": 1,
   "metadata": {},
   "outputs": [
    {
     "name": "stdout",
     "output_type": "stream",
     "text": [
      "Dati scritti con successo su output.csv\n"
     ]
    }
   ],
   "source": [
    "import pandas as pd\n",
    "\n",
    "# Lista di dizionari da scrivere su un file CSV\n",
    "data = [\n",
    "    {\"Nome\": \"Mario\", \"Età\": 30, \"Città\": \"Roma\"},\n",
    "    {\"Nome\": \"Luigi\", \"Età\": 25, \"Città\": \"Milano\"},\n",
    "    {\"Nome\": \"Anna\", \"Età\": 28, \"Città\": \"Napoli\"},\n",
    "]\n",
    "\n",
    "# Crea un DataFrame dalla lista di dizionari\n",
    "df = pd.DataFrame(data)\n",
    "\n",
    "# Scrive il DataFrame su un file CSV\n",
    "df.to_csv(\"output.csv\", index=False)\n",
    "\n",
    "print(\"Dati scritti con successo su output.csv\")\n"
   ]
  },
  {
   "cell_type": "code",
   "execution_count": 6,
   "metadata": {},
   "outputs": [
    {
     "name": "stdout",
     "output_type": "stream",
     "text": [
      "Dati scritti con successo su output.csv\n"
     ]
    }
   ],
   "source": [
    "import csv\n",
    "\n",
    "# Lista di dizionari da scrivere su un file CSV\n",
    "data = [\n",
    "    {\"Nome\": \"Mario\", \"Età\": 30, \"Città\": \"Roma\"},\n",
    "    {\"Nome\": \"Luigi\", \"Età\": 25, \"Città\": \"Milano\"},\n",
    "    {\"Nome\": \"Anna\", \"Età\": 28, \"Città\": \"Napoli\"},\n",
    "]\n",
    "\n",
    "# Nome del file CSV\n",
    "filename = \"output.csv\"\n",
    "\n",
    "# Estrae nomi delle colonne dai dizionari (assumendo che tutti i dizionari abbiano le stesse chiavi)\n",
    "fieldnames = data[0].keys()\n",
    "\n",
    "# Scrive la lista di dizionari su un file CSV\n",
    "with open(filename, mode='w', newline='') as file:\n",
    "    writer = csv.DictWriter(file, fieldnames=fieldnames)\n",
    "    \n",
    "    writer.writeheader()    # Scrive l'intestazione\n",
    "    writer.writerows(data)  # Scrive i dati\n",
    "\n",
    "print(\"Dati scritti con successo su\", filename)\n"
   ]
  },
  {
   "cell_type": "code",
   "execution_count": 28,
   "metadata": {},
   "outputs": [
    {
     "data": {
      "text/plain": [
       "[4, 5]"
      ]
     },
     "execution_count": 28,
     "metadata": {},
     "output_type": "execute_result"
    }
   ],
   "source": [
    "pippo = []\n",
    "pippo += [4, 5]\n",
    "pippo"
   ]
  },
  {
   "cell_type": "markdown",
   "metadata": {},
   "source": [
    "## Invio di email\n",
    "\n",
    "Vediamo un paio di esempi di script Python che inviano un'email utilizzando un account di posta e un server SMTP.\n",
    "\n",
    "Per utilizzare questi script, avrai bisogno delle credenziali del tuo account di posta (indirizzo email e password) e del modulo `smtplib` di Python nel primo caso e della libreria di terze parti `yagmail` nel secondo.\n",
    "\n",
    "**ATTENZIONE**: Se devi condividere il tuo codice con altre persone dovresti evitare di inserire le credenziali direttamente nel codice! Dovresti invece utilizzare metodi sicuri come variabili d'ambiente o servizi di gestione delle credenziali."
   ]
  },
  {
   "cell_type": "markdown",
   "metadata": {},
   "source": [
    "### Invio con gmail\n",
    "\n",
    "Dal 30 maggio 2022 Google ha rimosso l'opzione che consentiva di autenticarsi con la semplice password. [Vedi la notifica](https://support.google.com/accounts/answer/185833?hl=it).\n",
    "\n",
    "Sono disponibili due opzioni\n",
    "\n",
    "- Abilitare il 2FA sul proprio account google e poi creare una password per le applicazioni da utilizzare al posto della vera password nel codice a [questo indirizzo](https://myaccount.google.com/apppasswords).\n",
    "\n",
    "- Passare all'utilizzo di Xoauth2, che è supportato dalla maggior parte delle librerie (più complesso)."
   ]
  },
  {
   "cell_type": "markdown",
   "metadata": {},
   "source": [
    "### Credenziali e variabili d'ambiente\n",
    "\n",
    "Per impostare delle variabili d'ambiente che siano disponibili nel tuo codice Python indipendentemente che tu lo esegua come script o all'interno di un Jupyter notebook, devi creare un file .env nella directory del tuo progetto e utilizzare la libreria `python-dotenv` per caricare queste variabili.\n",
    "\n",
    "Prima installa `python-dotenv`\n",
    "\n",
    "```bash\n",
    "$ py -m pip install python-dotenv\n",
    "```\n",
    "\n",
    "Poi crea un file `.env` e mettilo nella cartella del tuo progetto:\n",
    "\n",
    "```bash\n",
    "GMAIL_USER=tuoindirizzo@gmail.com\n",
    "GMAIL_PASSWORD=tuapassword\n",
    "```"
   ]
  },
  {
   "cell_type": "markdown",
   "metadata": {},
   "source": [
    "### Invio con `smtplib`"
   ]
  },
  {
   "cell_type": "code",
   "execution_count": 2,
   "metadata": {},
   "outputs": [
    {
     "name": "stdout",
     "output_type": "stream",
     "text": [
      "Email inviata con successo!\n"
     ]
    }
   ],
   "source": [
    "import smtplib\n",
    "from email.mime.multipart import MIMEMultipart\n",
    "from email.mime.text import MIMEText\n",
    "import os\n",
    "from dotenv import load_dotenv\n",
    "\n",
    "# load_dotenv('/.env')  # Carica le variabili dal file .env\n",
    "load_dotenv()\n",
    "\n",
    "def send_email():\n",
    "    # Credenziali email\n",
    "    email = os.getenv('GMAIL_USER')  # Usa variabili d'ambiente per le credenziali\n",
    "    password = os.getenv('GMAIL_PASSWORD')\n",
    "    \n",
    "    # Parametri email\n",
    "    from_email = email\n",
    "    to_email = 'mantowalter@gmail.com'\n",
    "    subject = 'Oggetto dell\\'email'\n",
    "    body = 'Questo è il contenuto dell\\'email.'\n",
    "\n",
    "    # Creazione del messaggio\n",
    "    msg = MIMEMultipart()\n",
    "    msg['From'] = from_email\n",
    "    msg['To'] = to_email\n",
    "    msg['Subject'] = subject\n",
    "    msg.attach(MIMEText(body, 'plain'))\n",
    "\n",
    "    try:\n",
    "        # Connessione al server SMTP di Gmail\n",
    "        server = smtplib.SMTP('smtp.gmail.com', 587)\n",
    "        server.starttls()  # Avvio della connessione sicura\n",
    "        server.login(email, password)\n",
    "        \n",
    "        # Invio dell'email\n",
    "        text = msg.as_string()\n",
    "        server.sendmail(from_email, to_email, text)\n",
    "        server.quit()\n",
    "\n",
    "        print('Email inviata con successo!')\n",
    "    except Exception as e:\n",
    "        print(f'Errore durante l\\'invio dell\\'email: {e}')\n",
    "\n",
    "if __name__ == '__main__':\n",
    "    send_email()\n"
   ]
  },
  {
   "cell_type": "markdown",
   "metadata": {},
   "source": [
    "### Invio con `yagmail` (solo Gmail)"
   ]
  },
  {
   "cell_type": "code",
   "execution_count": 29,
   "metadata": {},
   "outputs": [
    {
     "name": "stdout",
     "output_type": "stream",
     "text": [
      "Email inviata con successo!\n"
     ]
    }
   ],
   "source": [
    "import yagmail\n",
    "import os\n",
    "from dotenv import load_dotenv\n",
    "\n",
    "load_dotenv()  # Carica le variabili dal file .env\n",
    "\n",
    "def send_email():\n",
    "    # Credenziali email\n",
    "    email = os.getenv('GMAIL_USER')\n",
    "    password = os.getenv('GMAIL_PASSWORD')\n",
    "\n",
    "    # Creazione del client yagmail\n",
    "    yag = yagmail.SMTP(email, password)\n",
    "\n",
    "    # Parametri email\n",
    "    to_email = 'mantowalter@gmail.com'\n",
    "    subject = 'Oggetto dell\\'email'\n",
    "    body = 'Questo è il contenuto dell\\'email.'\n",
    "\n",
    "    try:\n",
    "        # Invio dell'email\n",
    "        yag.send(to=to_email, subject=subject, contents=body)\n",
    "        print('Email inviata con successo!')\n",
    "    except Exception as e:\n",
    "        print(f'Errore durante l\\'invio dell\\'email: {e}')\n",
    "\n",
    "if __name__ == '__main__':\n",
    "    send_email()\n"
   ]
  },
  {
   "cell_type": "markdown",
   "metadata": {},
   "source": [
    "## Lettura e creazione di archivi compressi ZIP\n",
    "\n",
    "Vedi notebook [09_python_zip.ipynb](../../../09_python_zip.ipynb)"
   ]
  }
 ],
 "metadata": {
  "kernelspec": {
   "display_name": "Python 3",
   "language": "python",
   "name": "python3"
  },
  "language_info": {
   "codemirror_mode": {
    "name": "ipython",
    "version": 3
   },
   "file_extension": ".py",
   "mimetype": "text/x-python",
   "name": "python",
   "nbconvert_exporter": "python",
   "pygments_lexer": "ipython3",
   "version": "3.11.2"
  }
 },
 "nbformat": 4,
 "nbformat_minor": 2
}
