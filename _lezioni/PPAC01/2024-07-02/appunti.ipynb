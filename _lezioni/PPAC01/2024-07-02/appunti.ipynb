{
 "cells": [
  {
   "cell_type": "markdown",
   "metadata": {},
   "source": [
    "## Riassunto sul *web scraping* con `lxml` e `BeautifulSoup`\n",
    "\n",
    "Il web scraping è una tecnica per estrarre dati da siti web. Due delle librerie Python più comuni per fare web scraping sono **lxml** e **BeautifulSoup**. Entrambe offrono modi diversi per navigare la struttura dei documenti HTML e estrarre dati da essi. Possiamo usare direttamente **XPath** (con `lxml`) o i **selettori CSS** (con `BeautifulSoup`).\n",
    "\n",
    "Di seguito, un breve riassunto su come usare queste librerie e quando preferire una modalità rispetto all'altra."
   ]
  },
  {
   "cell_type": "markdown",
   "metadata": {},
   "source": [
    "### `lxml`\n",
    "**lxml** è una libreria Python per la lavorazione di documenti XML e HTML. Una delle sue caratteristiche principali è il supporto per XPath, un potente linguaggio per la navigazione e selezione di nodi in documenti XML/HTML.\n",
    "\n",
    "#### Utilizzo di lxml con XPath\n",
    "```python\n",
    "from lxml import html\n",
    "import requests\n",
    "\n",
    "# Effettua la richiesta HTTP\n",
    "page = requests.get('http://esempio.com')\n",
    "\n",
    "# Parse del contenuto HTML\n",
    "tree = html.fromstring(page.content)\n",
    "\n",
    "# Utilizzo di XPath per trovare elementi\n",
    "titoli = tree.xpath('//h2/text()')\n",
    "\n",
    "# Stampa i risultati\n",
    "for titolo in titoli:\n",
    "    print(titolo)\n",
    "```\n",
    "In questo esempio, `//h2/text()` è una query XPath che seleziona il testo di tutti gli elementi `<h2>`."
   ]
  },
  {
   "cell_type": "markdown",
   "metadata": {},
   "source": [
    "### `BeautifulSoup`\n",
    "**BeautifulSoup** è una libreria Python per l'analisi di documenti HTML e XML. È particolarmente utile per la sua semplicità e flessibilità nell'utilizzo dei selettori CSS.\n",
    "\n",
    "#### Utilizzo di BeautifulSoup con selettori CSS\n",
    "```python\n",
    "from bs4 import BeautifulSoup\n",
    "import requests\n",
    "\n",
    "# Effettua la richiesta HTTP\n",
    "page = requests.get('http://esempio.com')\n",
    "\n",
    "# Parse del contenuto HTML\n",
    "soup = BeautifulSoup(page.content, 'html.parser')\n",
    "\n",
    "# Utilizzo dei selettori CSS per trovare elementi\n",
    "titoli = soup.select('h2')\n",
    "\n",
    "# Stampa i risultati\n",
    "for titolo in titoli:\n",
    "    print(titolo.get_text())\n",
    "```\n",
    "In questo esempio, `h2` è un selettore CSS che seleziona tutti gli elementi `<h2>`."
   ]
  },
  {
   "cell_type": "markdown",
   "metadata": {},
   "source": [
    "### Confronto tra XPath e selettori CSS\n",
    "\n",
    "- **XPath (con `lxml` o `BeautifulSoup`)**:\n",
    "  - **Pro**: Molto potente e flessibile, permette di navigare nel documento in modo complesso. Vantaggioso per l'alta velocità di parsing dei documenti.\n",
    "  - **Contro**: Più complesso da imparare rispetto ai selettori CSS.\n",
    "  - **Quando usarlo**: Quando hai bisogno di selezionare elementi basandoti su relazioni complesse (es. parent-child, sibling) e/o quando vi sono molte condizioni da rispettare per selezionare l'elemento desiderato.\n",
    "\n",
    "- **Selettori CSS (con `BeautifulSoup`)**:\n",
    "  - **Pro**: Più semplice e intuitivo per chi ha familiarità con CSS.\n",
    "  - **Contro**: Meno potente di XPath per selezioni molto complesse.\n",
    "  - **Quando usarlo**: Quando hai bisogno di selezionare elementi basandoti su classi, ID, tag o altre semplici regole CSS oppure quando hai bisogno di gestire bene anche un HTML malformato."
   ]
  },
  {
   "cell_type": "markdown",
   "metadata": {},
   "source": [
    "### Riassumendo\n",
    "Sia lxml che BeautifulSoup sono potenti strumenti per il web scraping. La scelta tra XPath e selettori CSS dipende dalle tue necessità specifiche: usa XPath con lxml o BeautifulSoup per selezioni complesse e usa i selettori CSS con BeautifulSoup per selezioni più semplici e intuitive."
   ]
  },
  {
   "cell_type": "markdown",
   "metadata": {},
   "source": [
    "# HTTP request methods\n",
    "\n",
    "Come detto, il protocollo HTTP prevede una serie di [messaggi di richiesta](https://it.wikipedia.org/wiki/Hypertext_Transfer_Protocol#Messaggio_di_richiesta) che il client può inviare al server. In particolare i più noti sono\n",
    "\n",
    "- GET\n",
    "- POST\n",
    "- PUT\n",
    "- DELETE\n",
    "- ...\n",
    "\n",
    "**PER APPROFINDIRE:** https://developer.mozilla.org/en-US/docs/Web/HTTP/Methods\n",
    "\n",
    "Inizialmente vedre o prima il metodo GET e poi il metodo POST."
   ]
  },
  {
   "cell_type": "markdown",
   "metadata": {},
   "source": [
    "# HTTP status codes\n",
    "\n",
    "Quando viene effettuata una richiesta dal browser, il server può rispondere in diversi modi, ma ciascuna risposta è sempre associata a un relativo corice.\n",
    "\n",
    "Questi codici li potete vedere nell log di Flask, visibile nel terminale di VS Code, oppure nella sezione \"Network\" o \"Rete\" degli strumenti per sviluppatori all'interno del browser.\n",
    "\n",
    "Il significato primario dei codici di risposta è determinato dalla prima cifra, secondo questo schema:\n",
    "\n",
    "- `1xx`: *information* - La richiesta è stata ricevuta, proceda chi deve procedere, attenda chi deve attendere.\n",
    "- `2xx`: *success* - La richiesta è stata ricevuta con successo, compresa ed accettata.\n",
    "- `3xx`: *redirect* - Il client deve eseguire ulteriori azioni per completare la richiesta.\n",
    "- `4xx`: *client error* - La richiesta contiene una sintassi errata o non può essere soddisfatta.\n",
    "- `5xx`: *server error* - Il server non è riuscito a soddisfare una richiesta apparentemente valida.\n",
    "\n",
    "In generale vale questa regola:\n",
    "\n",
    "- `1xx`, `2xx`, `3xx` &rarr; NESSUN PROBLEMA\n",
    "- `4xx`, `5xx` &rarr; C'È QUALCHE PROBLEMA\n",
    "\n",
    "Per avere un'idea dei loro significati, ecco una lista dei più comuni codici che potrete riscontrare:\n",
    "\n",
    "- `200` OK\n",
    "- `301` Moved Permanently\n",
    "- `302` Found (Moved temporarily)\n",
    "- `304` Not Modified\n",
    "- `400` Bad Request\n",
    "- `401` Unauthorized\n",
    "- `403` Forbidden\n",
    "- `404` Not Found\n",
    "- `500` Internal Server Error\n",
    "- `503` Service Unavailable\n",
    "- `501` Not Implemented\n",
    "\n",
    "Per approfondire il significato di questi codici, potete leggere la pagina di Wikipedia sui [Codici di stato HTTP](https://it.wikipedia.org/wiki/Codici_di_stato_HTTP)."
   ]
  },
  {
   "cell_type": "markdown",
   "metadata": {},
   "source": [
    "# Headers\n",
    "\n",
    "Sia la richiesta sia la risposta oltre che a un \"contenuto\" vengono accompagnati anche da un cosiddetto _**header**_, ovvero una \"intestazione\".\n",
    "\n",
    "In parole povere un [header HTTP](https://en.wikipedia.org/wiki/List_of_HTTP_header_fields) è una sorta di bolla di accompagnamento del messaggio, che contiene dei dati utili ai fini della corretta comunicazione tra client e server sotto forma di coppie *campo* (chiave) e *valore*.\n",
    "\n",
    "Più precisamente, *campi* dell'header HTTP sono un elenco di parole chiave e valori sotto forma di stringhe, le quali sono inviate e ricevute dal client e dal server ad ogni richiesta e risposta HTTP. Queste intestazioni sono solitamente invisibili all'utente e vengono elaborate e loggate solo dalle rispettive applicazioni del server e del client. Definiscono il modo in cui la connessione e le informazioni inviate/ricevute attraverso essa devono essere interpretate e gestite."
   ]
  },
  {
   "attachments": {},
   "cell_type": "markdown",
   "metadata": {},
   "source": [
    "## Pretty Print\n",
    "\n",
    "Quando devi stampare a monitor una struttura dati lunga o complessa (con annidatamento), usando il `print()` normale molto spesso il risultato è poco leggibile.\n",
    "\n",
    "Usando la funzione `pprint()` del modulo `pprint` potete ottenere risultato \"prettified\", ovvero più bello da vedere, con l'indentazione che rispetta i livelli di annidamento della struttura dati.\n",
    "\n",
    "Ad esempio:"
   ]
  },
  {
   "cell_type": "code",
   "execution_count": 2,
   "metadata": {},
   "outputs": [
    {
     "name": "stdout",
     "output_type": "stream",
     "text": [
      "{'pippo1': 'asdasdasdasdasdasdasdasdasdasdasd',\n",
      " 'pippo2': 'asdasdasdasdasdasdasdasdasdasdasd',\n",
      " 'pippo3': 'asdasdasdasdasdasdasdasdasdasdasd',\n",
      " 'pippo4': 'asdasdasdasdasdasdasdasdasdasdasd'}\n"
     ]
    }
   ],
   "source": [
    "from pprint import pprint\n",
    "\n",
    "pprint({'pippo1': 'asdasdasdasdasdasdasdasdasdasdasd', 'pippo2': 'asdasdasdasdasdasdasdasdasdasdasd', 'pippo3': 'asdasdasdasdasdasdasdasdasdasdasd', 'pippo4': 'asdasdasdasdasdasdasdasdasdasdasd'})"
   ]
  }
 ],
 "metadata": {
  "kernelspec": {
   "display_name": "Python 3",
   "language": "python",
   "name": "python3"
  },
  "language_info": {
   "codemirror_mode": {
    "name": "ipython",
    "version": 3
   },
   "file_extension": ".py",
   "mimetype": "text/x-python",
   "name": "python",
   "nbconvert_exporter": "python",
   "pygments_lexer": "ipython3",
   "version": "3.11.2"
  }
 },
 "nbformat": 4,
 "nbformat_minor": 2
}
