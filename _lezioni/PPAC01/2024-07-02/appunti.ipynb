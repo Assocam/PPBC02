{
 "cells": [
  {
   "cell_type": "markdown",
   "metadata": {},
   "source": [
    "## Riassunto sul *web scraping* con `lxml` e `BeautifulSoup`\n",
    "\n",
    "Il web scraping è una tecnica per estrarre dati da siti web. Due delle librerie Python più comuni per fare web scraping sono **lxml** e **BeautifulSoup**. Entrambe offrono modi diversi per navigare la struttura dei documenti HTML e estrarre dati da essi. Possiamo usare direttamente **XPath** (con `lxml`) o i **selettori CSS** (con `BeautifulSoup`).\n",
    "\n",
    "Di seguito, un breve riassunto su come usare queste librerie e quando preferire una modalità rispetto all'altra."
   ]
  },
  {
   "cell_type": "markdown",
   "metadata": {},
   "source": [
    "### `lxml`\n",
    "**lxml** è una libreria Python per la lavorazione di documenti XML e HTML. Una delle sue caratteristiche principali è il supporto per XPath, un potente linguaggio per la navigazione e selezione di nodi in documenti XML/HTML.\n",
    "\n",
    "#### Utilizzo di lxml con XPath\n",
    "```python\n",
    "from lxml import html\n",
    "import requests\n",
    "\n",
    "# Effettua la richiesta HTTP\n",
    "page = requests.get('http://esempio.com')\n",
    "\n",
    "# Parse del contenuto HTML\n",
    "tree = html.fromstring(page.content)\n",
    "\n",
    "# Utilizzo di XPath per trovare elementi\n",
    "titoli = tree.xpath('//h2/text()')\n",
    "\n",
    "# Stampa i risultati\n",
    "for titolo in titoli:\n",
    "    print(titolo)\n",
    "```\n",
    "In questo esempio, `//h2/text()` è una query XPath che seleziona il testo di tutti gli elementi `<h2>`."
   ]
  },
  {
   "cell_type": "markdown",
   "metadata": {},
   "source": [
    "### `BeautifulSoup`\n",
    "**BeautifulSoup** è una libreria Python per l'analisi di documenti HTML e XML. È particolarmente utile per la sua semplicità e flessibilità nell'utilizzo dei selettori CSS.\n",
    "\n",
    "#### Utilizzo di BeautifulSoup con selettori CSS\n",
    "```python\n",
    "from bs4 import BeautifulSoup\n",
    "import requests\n",
    "\n",
    "# Effettua la richiesta HTTP\n",
    "page = requests.get('http://esempio.com')\n",
    "\n",
    "# Parse del contenuto HTML\n",
    "soup = BeautifulSoup(page.content, 'html.parser')\n",
    "\n",
    "# Utilizzo dei selettori CSS per trovare elementi\n",
    "titoli = soup.select('h2')\n",
    "\n",
    "# Stampa i risultati\n",
    "for titolo in titoli:\n",
    "    print(titolo.get_text())\n",
    "```\n",
    "In questo esempio, `h2` è un selettore CSS che seleziona tutti gli elementi `<h2>`."
   ]
  },
  {
   "cell_type": "markdown",
   "metadata": {},
   "source": [
    "### Confronto tra XPath e selettori CSS\n",
    "\n",
    "- **XPath (con `lxml` o `BeautifulSoup`)**:\n",
    "  - **Pro**: Molto potente e flessibile, permette di navigare nel documento in modo complesso. Vantaggioso per l'alta velocità di parsing dei documenti.\n",
    "  - **Contro**: Più complesso da imparare rispetto ai selettori CSS.\n",
    "  - **Quando usarlo**: Quando hai bisogno di selezionare elementi basandoti su relazioni complesse (es. parent-child, sibling) e/o quando vi sono molte condizioni da rispettare per selezionare l'elemento desiderato.\n",
    "\n",
    "- **Selettori CSS (con `BeautifulSoup`)**:\n",
    "  - **Pro**: Più semplice e intuitivo per chi ha familiarità con CSS.\n",
    "  - **Contro**: Meno potente di XPath per selezioni molto complesse.\n",
    "  - **Quando usarlo**: Quando hai bisogno di selezionare elementi basandoti su classi, ID, tag o altre semplici regole CSS oppure quando hai bisogno di gestire bene anche un HTML malformato."
   ]
  },
  {
   "cell_type": "markdown",
   "metadata": {},
   "source": [
    "### Riassumendo\n",
    "Sia lxml che BeautifulSoup sono potenti strumenti per il web scraping. La scelta tra XPath e selettori CSS dipende dalle tue necessità specifiche: usa XPath con lxml o BeautifulSoup per selezioni complesse e usa i selettori CSS con BeautifulSoup per selezioni più semplici e intuitive."
   ]
  }
 ],
 "metadata": {
  "language_info": {
   "name": "python"
  }
 },
 "nbformat": 4,
 "nbformat_minor": 2
}
