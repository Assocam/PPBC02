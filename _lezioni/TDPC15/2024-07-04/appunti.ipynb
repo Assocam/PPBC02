{
 "cells": [
  {
   "cell_type": "markdown",
   "metadata": {},
   "source": [
    "## Decodifica da JSON\n",
    "\n",
    "La procedura di conversione di dati in formato JSON a oggetto Python è detta deserializzazione.\n",
    "\n",
    "Per leggere un JSON abbiamo due metodi: `json.load()` e `json.loads()`. Qui la differenza sta nei JSON in ingresso: oggetti *file-like* oppure stringhe."
   ]
  },
  {
   "cell_type": "markdown",
   "metadata": {},
   "source": [
    "### Decodifica da file &rarr; `json.load()`"
   ]
  },
  {
   "cell_type": "code",
   "execution_count": 11,
   "metadata": {},
   "outputs": [
    {
     "name": "stdout",
     "output_type": "stream",
     "text": [
      "[{'descrizione': 'Produttore di olio e frutta secca',\n",
      "  'email': 'civetta@civetta.com',\n",
      "  'id': 1,\n",
      "  'indirizzo': 'Via Cavour 12, Ugento (LE)',\n",
      "  'nome_produttore': 'Cascina della Civetta',\n",
      "  'telefono': '0172123456'},\n",
      " {'descrizione': 'Prodotti biologici',\n",
      "  'email': 'info@unibio.it',\n",
      "  'id': 2,\n",
      "  'indirizzo': 'Via Garibaldi 2, Melle',\n",
      "  'nome_produttore': 'Universo Bio',\n",
      "  'telefono': '0119876543'},\n",
      " {'descrizione': 'Prodotti tipici',\n",
      "  'email': 'sole@gmail.com',\n",
      "  'id': 3,\n",
      "  'indirizzo': 'Via Roma 1, Cuneo',\n",
      "  'nome_produttore': 'Fattoria del Sole',\n",
      "  'telefono': '0171987654'},\n",
      " {'descrizione': 'Frutta e verdura',\n",
      "  'email': 'bioquiete@yahoo.it',\n",
      "  'id': 4,\n",
      "  'indirizzo': 'Via Torino 3, Alba',\n",
      "  'nome_produttore': 'Azienda Agricola La Quiete',\n",
      "  'telefono': '0173987654'}]\n"
     ]
    }
   ],
   "source": [
    "import json\n",
    "from pprint import pprint\n",
    "\n",
    "with open('gas03/database/data_json/produttori.json', 'r') as json_file:\n",
    "    \n",
    "    movie_dict_from_json = json.load(json_file)\n",
    "\n",
    "pprint(movie_dict_from_json)"
   ]
  },
  {
   "cell_type": "markdown",
   "metadata": {},
   "source": [
    "### Decodifica da stringa &rarr; `json.loads()`"
   ]
  },
  {
   "cell_type": "code",
   "execution_count": 17,
   "metadata": {},
   "outputs": [
    {
     "name": "stdout",
     "output_type": "stream",
     "text": [
      "{'title': 'Inception', 'director': 'Christopher Nolan', 'year': 2010}\n"
     ]
    }
   ],
   "source": [
    "import json\n",
    "\n",
    "movie_json_str = '{\"title\": \"Inception\", \"director\": \"Christopher Nolan\", \"year\": 2010}'\n",
    "\n",
    "movie_dict_from_json = json.loads(movie_json_str)\n",
    "\n",
    "print(movie_dict_from_json)"
   ]
  },
  {
   "cell_type": "markdown",
   "metadata": {},
   "source": [
    "## Uso dell'*unpacking* nelle chiamate di funzione\n",
    "\n",
    "Potremmo tradurre *unpacking* come spacchettamento o disassemblaggio.\n",
    "\n",
    "In Python, l'unpacking è una tecnica che permette di passare ad una funzione gli argomenti sotto forma di sequenze o dizionari usando le cosiddette *starred expression*\n",
    "\n",
    "Per scrivere una *starred expression* abbiamo due operatori:\n",
    "\n",
    "- `*` il singolo asterisco consente di passare tutti gli elementi di una sequenza come singoli argomenti posizionali.\n",
    "\n",
    "- `**` il doppio asterisco consente di passare elementi di un dizionario come **keyword arguments** (argomenti in forma di chiave=valore)."
   ]
  },
  {
   "cell_type": "markdown",
   "metadata": {},
   "source": [
    "### Unpacking con `*` per le sequenze\n",
    "\n",
    "L'operatore `*` viene utilizzato per \"spacchettare\" una sequenza (come una lista o una tupla) in singoli argomenti che vengono passati a una funzione.\n",
    "\n",
    "Nell'esempio seguente, la lista `numeri` viene spacchettata nei singoli argomenti `a`, `b` e `c` della funzione `somma`:"
   ]
  },
  {
   "cell_type": "code",
   "execution_count": 1,
   "metadata": {},
   "outputs": [
    {
     "name": "stdout",
     "output_type": "stream",
     "text": [
      "6\n"
     ]
    }
   ],
   "source": [
    "def somma(a, b, c):\n",
    "    return a + b + c\n",
    "\n",
    "numeri = [1, 2, 3]\n",
    "\n",
    "risultato = somma(*numeri)  # == somma(1, 2, 3)\n",
    "\n",
    "print(risultato)"
   ]
  },
  {
   "cell_type": "markdown",
   "metadata": {},
   "source": [
    "#### Unpacking con `**` per i dizionari\n",
    "\n",
    "L'operatore `**` viene invece utilizzato per scomporre un dizionario in coppie chiave-valore che vengono passate come *keyword argument* a una funzione.\n",
    "\n",
    "Nell'esempio che segue, il dizionario `dati` viene spacchettato nei singoli argomenti nominati `nome`, `età` e `città` della funzione `presentazione`:"
   ]
  },
  {
   "cell_type": "code",
   "execution_count": 2,
   "metadata": {},
   "outputs": [
    {
     "name": "stdout",
     "output_type": "stream",
     "text": [
      "Mi chiamo Alice, ho 30 anni e vivo a Roma.\n"
     ]
    }
   ],
   "source": [
    "def presentazione(nome, età, città):\n",
    "    return f\"Mi chiamo {nome}, ho {età} anni e vivo a {città}.\"\n",
    "\n",
    "dati = {\n",
    "    'nome': 'Alice',\n",
    "    'età': 30,\n",
    "    'città': 'Roma'\n",
    "}\n",
    "\n",
    "messaggio = presentazione(**dati)  # == presentazione(nome='Alice', età=30, città='Roma')\n",
    "\n",
    "print(messaggio)"
   ]
  },
  {
   "cell_type": "markdown",
   "metadata": {},
   "source": [
    "### Riassumendo\n",
    "\n",
    "L'unpacking con `*` e `**` è una funzionalità potente e flessibile di Python che permette di passare elementi di sequenze e dizionari come argomenti di funzione in modo elegante e conciso. Utilizzando queste tecniche, è possibile scrivere codice più pulito e leggibile, specialmente quando si lavora con funzioni che richiedono molti argomenti.\n",
    "\n",
    "Ecco un esemio riassuntivo che nel quale si fa uso di entrambi gli operatori:"
   ]
  },
  {
   "cell_type": "code",
   "execution_count": 6,
   "metadata": {},
   "outputs": [
    {
     "name": "stdout",
     "output_type": "stream",
     "text": [
      "io-tu-egli!"
     ]
    }
   ],
   "source": [
    "print_values = ['io', 'tu', 'egli']\n",
    "print_options = {'end': '!', 'sep': '-'}\n",
    "\n",
    "print(*print_values, **print_options)  # == print('io', 'tu', 'egli', end=' ', sep=' - ')"
   ]
  }
 ],
 "metadata": {
  "kernelspec": {
   "display_name": ".venv",
   "language": "python",
   "name": "python3"
  },
  "language_info": {
   "codemirror_mode": {
    "name": "ipython",
    "version": 3
   },
   "file_extension": ".py",
   "mimetype": "text/x-python",
   "name": "python",
   "nbconvert_exporter": "python",
   "pygments_lexer": "ipython3",
   "version": "3.11.2"
  }
 },
 "nbformat": 4,
 "nbformat_minor": 2
}
