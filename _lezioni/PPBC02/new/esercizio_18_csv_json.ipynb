{
 "cells": [
  {
   "attachments": {},
   "cell_type": "markdown",
   "metadata": {},
   "source": [
    "# Esercizio: Sardi montani (CSV)"
   ]
  },
  {
   "attachments": {},
   "cell_type": "markdown",
   "metadata": {},
   "source": [
    "Requisiti: modulo built-in `csv`.\n",
    "\n",
    "Un tuo cliente vuole fare un po' di analisi di mercato e i chiede di aiutarlo a scrivere uno script in Python per leggere dei file CSV, JSON e XML, che provengono dai progetti di \"Open Data\" delle pubbliche amministrazioni. Avete selezionato come fonti i database regionali, in particolare delle tabelle che contengono dei dati sulla popolazione delle varie regioni italiane.\n",
    "\n",
    "Dato che i file che contengono i dati di suo interesse sono molti e scritti in vari formati, usare direttamente Excel per compiere le analisi sarebbe lungo e complesso. Per questo motivo ti ha chiesto scrivere degli script che devono occupare di estrarre, filtrare e convertire i file in automatico, e di farlo passo-passo così che anche lui possa capire come funzionano ed eventualmente modificarli in modo autonomo in futuro, in base alle sue esigenze.\n",
    "\n",
    "Scegliete quindi dei file da utilizzarsi come campioni su cui provare gli algoritmi che svilupperai.\n",
    "\n",
    "La Regione Sardenga ha pubblicato una tabella denominata [\"Centri urbani per abitante e altitudine\"](http://www.datiopen.it/it/opendata/Regione_Sardegna_Centri_Urbani_per_abitante_e_altititudine) e che contiene dei dati aggiornati al 13/01/2014. Come si intuisce dal nome, è un elenco di comuni con vari dati, tra cui il numero di abitanti e l'altezza del comune in metri sul livello del mare.\n",
    "\n",
    "I dati sono contenuti in un file di tipo CSV: `Sardegna_centri_urbani_per_abitante_e_altitudine_2014-01-13.csv` contenuto nella cartella `files_esercizi/` del nostro repository."
   ]
  },
  {
   "attachments": {},
   "cell_type": "markdown",
   "metadata": {},
   "source": [
    "Apri il file in un editor di testo per visualizzare il suo contenuto \"grezzo\" e le <u>prime 10 righe, compresa compresa la prima riga di intestazione</u>, appaiono così:"
   ]
  },
  {
   "attachments": {},
   "cell_type": "markdown",
   "metadata": {},
   "source": [
    "<pre>\n",
    "COMUNE;PROVINCIA;REGIONE;NOME LOCALITA';ABITANTI LOCALITA';QUOTA LOCALITA';ID FEATURE;CODICE LOCALITA'\n",
    "ALGHERO;SASSARI;Sardegna;ALGHERO;33677;7;348;1001\n",
    "ALGHERO;SASSARI;Sardegna;FERTILIA;1146;9;346;1002\n",
    "ALGHERO;SASSARI;Sardegna;GUARDIA GRANDE;10;30;335;2001\n",
    "ALGHERO;SASSARI;Sardegna;MARISTELLA PORTO CONTE;379;9;344;1003\n",
    "ALGHERO;SASSARI;Sardegna;PISCHINA SALIDA;17;5;349;1004\n",
    "ALGHERO;SASSARI;Sardegna;SANTA MARIA LA PALMA;112;34;330;1005\n",
    "ALGHERO;SASSARI;Sardegna;SA SEGADA;15;20;339;2002\n",
    "ALGHERO;SASSARI;Sardegna;TRAMARIGLIO;4;5;345;2003\n",
    "ANELA;SASSARI;Sardegna;ANELA;924;446;375;1001\n",
    "</pre>"
   ]
  },
  {
   "attachments": {},
   "cell_type": "markdown",
   "metadata": {},
   "source": [
    "\n",
    "Importando i dati in un foglio di calcolo, l'aspetto di queste prime 10 righe appare così:"
   ]
  },
  {
   "attachments": {},
   "cell_type": "markdown",
   "metadata": {},
   "source": [
    "| COMUNE    | PROVINCIA | REGIONE  | NOME LOCALITA'         | ABITANTI LOCALITA' | QUOTA LOCALITA' | ID FEATURE | CODICE LOCALITA' |\n",
    "|-----------|-----------|----------|------------------------|--------------------|-----------------|------------|------------------|\n",
    "| ALGHERO   | SASSARI   | Sardegna | ALGHERO                | 33677              | 7               | 348        | 1001             |\n",
    "| ALGHERO   | SASSARI   | Sardegna | FERTILIA               | 1146               | 9               | 346        | 1002             |\n",
    "| ALGHERO   | SASSARI   | Sardegna | GUARDIA GRANDE         | 10                 | 30              | 335        | 2001             |\n",
    "| ALGHERO   | SASSARI   | Sardegna | MARISTELLA PORTO CONTE | 379                | 9               | 344        | 1003             |\n",
    "| ALGHERO   | SASSARI   | Sardegna | PISCHINA SALIDA        | 17                 | 5               | 349        | 1004             |\n",
    "| ALGHERO   | SASSARI   | Sardegna | SANTA MARIA LA PALMA   | 112                | 34              | 330        | 1005             |\n",
    "| ALGHERO   | SASSARI   | Sardegna | SA SEGADA              | 15                 | 20              | 339        | 2002             |\n",
    "| ALGHERO   | SASSARI   | Sardegna | TRAMARIGLIO            | 4                  | 5               | 345        | 2003             |\n",
    "| ANELA     | SASSARI   | Sardegna | ANELA                  | 924                | 446             | 375        | 1001             |"
   ]
  },
  {
   "attachments": {},
   "cell_type": "markdown",
   "metadata": {},
   "source": [
    "\n",
    "Il cliente ti chiede di cominciare a scrivere un primo programma per leggere questo file CSV, quindi contare il numero di record, ovvero di comuni, che sono più in alto di 600 metri s.l.m. e il numero di abitanti totali residenti in questi comuni.\n",
    "\n",
    "Dunque i dati che ti interessano sono:\n",
    "\n",
    "- numero di abitanti nel comune: campo `ABITANTI LOCALITA'`\n",
    "- l'altezza del comune in metri: campo `QUOTA LOCALITA'`\n"
   ]
  },
  {
   "attachments": {},
   "cell_type": "markdown",
   "metadata": {},
   "source": [
    "Output atteso:\n",
    "<pre>\n",
    "N. centri urbani sopra i 600 m s.l.m.: 55\n",
    "N. abitanti sopra i 600 m s.l.m.: 75251\n",
    "</pre>"
   ]
  },
  {
   "attachments": {},
   "cell_type": "markdown",
   "metadata": {},
   "source": [
    "Dato che è scomodo lavorare con le liste e accedere alle colonne dovendole chiamare per numero di indice, decidi ci usare `csv.DictReader` per poter lavorare su un dizionario."
   ]
  },
  {
   "cell_type": "code",
   "execution_count": 6,
   "metadata": {},
   "outputs": [
    {
     "name": "stdout",
     "output_type": "stream",
     "text": [
      "7\n",
      "9\n",
      "30\n",
      "9\n",
      "5\n",
      "34\n",
      "20\n",
      "5\n",
      "446\n",
      "296\n",
      "419\n",
      "406\n",
      "254\n",
      "447\n",
      "405\n",
      "540\n",
      "508\n",
      "475\n",
      "471\n",
      "524\n",
      "396\n",
      "509\n",
      "201\n",
      "561\n",
      "725\n",
      "333\n",
      "161\n",
      "114\n",
      "24\n",
      "173\n",
      "148\n",
      "40\n",
      "199\n",
      "124\n",
      "540\n",
      "430\n",
      "317\n",
      "529\n",
      "473\n",
      "417\n",
      "595\n",
      "515\n",
      "218\n",
      "313\n",
      "400\n",
      "177\n",
      "257\n",
      "300\n",
      "368\n",
      "366\n",
      "308\n",
      "131\n",
      "577\n",
      "650\n",
      "478\n",
      "68\n",
      "182\n",
      "615\n",
      "75\n",
      "281\n",
      "445\n",
      "335\n",
      "226\n",
      "203\n",
      "390\n",
      "226\n",
      "304\n",
      "637\n",
      "778\n",
      "305\n",
      "321\n",
      "213\n",
      "372\n",
      "204\n",
      "92\n",
      "142\n",
      "81\n",
      "265\n",
      "425\n",
      "15\n",
      "16\n",
      "5\n",
      "438\n",
      "267\n",
      "267\n",
      "42\n",
      "92\n",
      "85\n",
      "47\n",
      "93\n",
      "40\n",
      "159\n",
      "69\n",
      "125\n",
      "400\n",
      "89\n",
      "117\n",
      "140\n",
      "175\n",
      "187\n",
      "350\n",
      "121\n",
      "150\n",
      "80\n",
      "108\n",
      "210\n",
      "83\n",
      "144\n",
      "50\n",
      "11\n",
      "53\n",
      "60\n",
      "205\n",
      "93\n",
      "90\n",
      "78\n",
      "225\n",
      "82\n",
      "102\n",
      "102\n",
      "115\n",
      "411\n",
      "306\n",
      "405\n",
      "277\n",
      "328\n",
      "331\n",
      "406\n",
      "18\n",
      "7\n",
      "12\n",
      "11\n",
      "7\n",
      "87\n",
      "15\n",
      "136\n",
      "148\n",
      "0\n",
      "7\n",
      "0\n",
      "461\n",
      "225\n",
      "354\n",
      "430\n",
      "557\n",
      "556\n",
      "372\n",
      "275\n",
      "150\n",
      "200\n",
      "567\n"
     ]
    },
    {
     "ename": "UnicodeDecodeError",
     "evalue": "'utf-8' codec can't decode byte 0xe8 in position 3261: invalid continuation byte",
     "output_type": "error",
     "traceback": [
      "\u001b[1;31m---------------------------------------------------------------------------\u001b[0m",
      "\u001b[1;31mUnicodeDecodeError\u001b[0m                        Traceback (most recent call last)",
      "Cell \u001b[1;32mIn[6], line 13\u001b[0m\n\u001b[0;32m     11\u001b[0m \u001b[39mwith\u001b[39;00m \u001b[39mopen\u001b[39m(\u001b[39m'\u001b[39m\u001b[39m../files_esercizi/Sardegna_centri_urbani_per_abitante_e_altitudine_2014-01-13.csv\u001b[39m\u001b[39m'\u001b[39m, \u001b[39m'\u001b[39m\u001b[39mr\u001b[39m\u001b[39m'\u001b[39m, encoding\u001b[39m=\u001b[39m\u001b[39m'\u001b[39m\u001b[39mutf-8\u001b[39m\u001b[39m'\u001b[39m) \u001b[39mas\u001b[39;00m file_in:\n\u001b[0;32m     12\u001b[0m     file_reader \u001b[39m=\u001b[39m csv\u001b[39m.\u001b[39mDictReader(file_in, delimiter\u001b[39m=\u001b[39m\u001b[39m\"\u001b[39m\u001b[39m;\u001b[39m\u001b[39m\"\u001b[39m)\n\u001b[1;32m---> 13\u001b[0m     \u001b[39mfor\u001b[39;49;00m linea \u001b[39min\u001b[39;49;00m file_reader:\n\u001b[0;32m     14\u001b[0m         \u001b[39mprint\u001b[39;49m(linea[\u001b[39m\"\u001b[39;49m\u001b[39mQUOTA LOCALITA\u001b[39;49m\u001b[39m'\u001b[39;49m\u001b[39m\"\u001b[39;49m])\n",
      "File \u001b[1;32mc:\\Users\\Mantovani.Walter\\AppData\\Local\\Programs\\Python\\Python311\\Lib\\csv.py:111\u001b[0m, in \u001b[0;36mDictReader.__next__\u001b[1;34m(self)\u001b[0m\n\u001b[0;32m    108\u001b[0m \u001b[39mif\u001b[39;00m \u001b[39mself\u001b[39m\u001b[39m.\u001b[39mline_num \u001b[39m==\u001b[39m \u001b[39m0\u001b[39m:\n\u001b[0;32m    109\u001b[0m     \u001b[39m# Used only for its side effect.\u001b[39;00m\n\u001b[0;32m    110\u001b[0m     \u001b[39mself\u001b[39m\u001b[39m.\u001b[39mfieldnames\n\u001b[1;32m--> 111\u001b[0m row \u001b[39m=\u001b[39m \u001b[39mnext\u001b[39m(\u001b[39mself\u001b[39m\u001b[39m.\u001b[39mreader)\n\u001b[0;32m    112\u001b[0m \u001b[39mself\u001b[39m\u001b[39m.\u001b[39mline_num \u001b[39m=\u001b[39m \u001b[39mself\u001b[39m\u001b[39m.\u001b[39mreader\u001b[39m.\u001b[39mline_num\n\u001b[0;32m    114\u001b[0m \u001b[39m# unlike the basic reader, we prefer not to return blanks,\u001b[39;00m\n\u001b[0;32m    115\u001b[0m \u001b[39m# because we will typically wind up with a dict full of None\u001b[39;00m\n\u001b[0;32m    116\u001b[0m \u001b[39m# values\u001b[39;00m\n",
      "File \u001b[1;32m<frozen codecs>:322\u001b[0m, in \u001b[0;36mdecode\u001b[1;34m(self, input, final)\u001b[0m\n",
      "\u001b[1;31mUnicodeDecodeError\u001b[0m: 'utf-8' codec can't decode byte 0xe8 in position 3261: invalid continuation byte"
     ]
    }
   ],
   "source": [
    "import csv\n",
    "\n",
    "# Contatori per il report\n",
    "tot_comuni = 0\n",
    "tot_abitanti = 0\n",
    "\n",
    "# scrivi qui\n",
    "\n",
    "import csv\n",
    "\n",
    "comuni = []\n",
    "abitanti = 0\n",
    "\n",
    "with open('../files_esercizi/Sardegna_centri_urbani_per_abitante_e_altitudine_2014-01-13.csv', 'r', encoding='utf-8') as file_in:\n",
    "    file_reader = csv.DictReader(file_in, delimiter=\";\")\n",
    "    for linea in file_reader:\n",
    "        print(linea[\"QUOTA LOCALITA'\"])\n",
    "\n",
    "        \n",
    "        "
   ]
  },
  {
   "attachments": {},
   "cell_type": "markdown",
   "metadata": {},
   "source": [
    "# Variante: Sardi montani (JSON)\n",
    "\n",
    "Requisiti: modulo built-in `json`.\n",
    "\n",
    "La stessa base di dati dell'esercizio precedente è anche disponibile in formato JSON.\n",
    "\n",
    "Il file è `Sardegna_centri_urbani_per_abitante_e_altitudine_2014-01-13.json`, anche esso contenuto nella cartella `files_esercizi/` del nostro repository.\n",
    "\n",
    "L'esercizio è il medesimo del precedente, ma ora invece di leggere e manipolare dati CSV, devi usare il modulo `json` e i relativi metodi."
   ]
  },
  {
   "attachments": {},
   "cell_type": "markdown",
   "metadata": {},
   "source": [
    "Output atteso:\n",
    "<pre>\n",
    "N. centri urbani sopra i 600 m s.l.m.: 55\n",
    "N. abitanti sopra i 600 m s.l.m.: 75251\n",
    "</pre>"
   ]
  },
  {
   "cell_type": "code",
   "execution_count": 3,
   "metadata": {},
   "outputs": [],
   "source": [
    "import json\n",
    "\n",
    "# Contatori per il report\n",
    "tot_comuni = 0\n",
    "tot_abitanti = 0\n",
    "\n",
    "# scrivi qui"
   ]
  },
  {
   "attachments": {},
   "cell_type": "markdown",
   "metadata": {},
   "source": [
    "# Variante: script generico (CSV e JSON)\n",
    "\n",
    "Ora prova a creare uno script che prende in ingresso (input):\n",
    "- un file (CSV o JSON);\n",
    "- l'altezza minima;\n",
    "- l'altezza massima.\n",
    "\n",
    "Il nostro codice deve rilevare direttamente il formato del file (dall'estensione) e effettuare i conteggi come per gli esercizi precedenti. L'unica differenza è che ora abbiamo un intervallo di altezza in cui cercare. Dobbiamo trovare tutti i record che sono a un'altezza compresa tra l'altezza minima e massima indicate dall'utente."
   ]
  },
  {
   "attachments": {},
   "cell_type": "markdown",
   "metadata": {},
   "source": [
    "Output atteso:\n",
    "<pre>\n",
    "******** REPORT ********\n",
    "File: Sardegna_centri_urbani_per_abitante_e_altitudine_2014-01-13\n",
    "Formato: .JSON\n",
    "Filtro applicato: altitudine compresa tra 600 e inf metri s.l.m.\n",
    "N. centri urbali: 55\n",
    "N. abitanti: 75251\n",
    "------------------------\n",
    "</pre>"
   ]
  },
  {
   "cell_type": "markdown",
   "metadata": {},
   "source": [
    "I valori di input (nome file, altezza min e max) li puoi scrivere direttamente \"hard-coded\" come costanti, puoi utilizzare la funzione `input()` o anche accettare argomenti `sys.argv`. Inizialmente, scrivere direttamente gli input come costanti ti faciliterà il lavoro. Una volta che l'algoritmo funziona, puoi sempre migliorare le modalità di inserimento degli input da parte dell'utente."
   ]
  },
  {
   "cell_type": "code",
   "execution_count": 2,
   "metadata": {},
   "outputs": [],
   "source": [
    "import csv\n",
    "import json\n",
    "from pathlib import Path\n",
    "\n",
    "# Contatori per il report\n",
    "tot_comuni = 0\n",
    "tot_abitanti = 0\n",
    "\n",
    "# scrivi qui"
   ]
  },
  {
   "attachments": {},
   "cell_type": "markdown",
   "metadata": {},
   "source": [
    "# Variante: estrazione dati e script completo"
   ]
  },
  {
   "attachments": {},
   "cell_type": "markdown",
   "metadata": {},
   "source": [
    "Arrivato a questo punto, decidete di andare oltre e provare a esportare in un file tutti i record trovati.\n",
    "\n",
    "Aggiungi dunque la funzionalità di esportazione dei dati trovati: CSV o JSON, è l'utente che deve poter decidere.\n",
    "\n",
    "In questo modo avrai creato un convertitore di dati da CSV a JSON e viceversa con la possibilità di filtrare i dati prima dell'esportazione."
   ]
  },
  {
   "attachments": {},
   "cell_type": "markdown",
   "metadata": {},
   "source": [
    "Come prima, prepara il tuo codice qua sotto, e poi prova a creare uno script che possa essere eseguito da riga di comando e che prenda i nomi dei file come argomenti:\n",
    "\n",
    "```bash\n",
    "C:\\my_proj\\> py nome_mio_script.py file_ingresso.json file_uscita.csv\n",
    "```"
   ]
  },
  {
   "cell_type": "code",
   "execution_count": 22,
   "metadata": {},
   "outputs": [],
   "source": [
    "import csv\n",
    "import json\n",
    "from pathlib import Path\n",
    "\n",
    "# Inizializzo le variabili in cui metterò gli output\n",
    "tot_comuni = 0\n",
    "tot_abitanti = 0\n",
    "\n",
    "# scrivi qui\n"
   ]
  },
  {
   "cell_type": "markdown",
   "metadata": {},
   "source": [
    "## Variante: con argomenti opzionali, ovvero le opzioni"
   ]
  },
  {
   "cell_type": "markdown",
   "metadata": {},
   "source": [
    "Dato che il tuo cliente è un geometra, ha l'abitudine di scrivere i metri con l'abbreviazione `mt` o `mt.`, come fanno molti suoi colleghi.\n",
    "\n",
    "Tu gli speghi che bisognerebbe scrivere solo `m` perché è una convenzione internazionale e ci sono anche direttive ufficiali dello Stato che indicano che le forme, tutte italiane, `mt` o `mt.` sono da considerarsi errate. Dopo un'accesa discussione sul Sistema Internazionale e i gerghi professionali, decidete che nella versione finale dello script l'utente potrà inserire manualmente il simbolo dei metri da usarsi nei report finali. È un cliente quindi decidi di accontentarlo, ma di default, se l'utente non indica nulla, sarà usato il simbolo corretto: `m`."
   ]
  },
  {
   "cell_type": "code",
   "execution_count": null,
   "metadata": {},
   "outputs": [],
   "source": [
    "import csv\n",
    "import json\n",
    "from pathlib import Path\n",
    "# Importo il modulo per gestire i parametri\n",
    "from optparse import OptionParser\n",
    "\n",
    "# scrivi qui\n"
   ]
  }
 ],
 "metadata": {
  "kernelspec": {
   "display_name": ".venv",
   "language": "python",
   "name": "python3"
  },
  "language_info": {
   "codemirror_mode": {
    "name": "ipython",
    "version": 3
   },
   "file_extension": ".py",
   "mimetype": "text/x-python",
   "name": "python",
   "nbconvert_exporter": "python",
   "pygments_lexer": "ipython3",
   "version": "3.11.2"
  },
  "orig_nbformat": 4
 },
 "nbformat": 4,
 "nbformat_minor": 2
}
