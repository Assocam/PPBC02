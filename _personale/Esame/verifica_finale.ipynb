{
 "cells": [
  {
   "attachments": {},
   "cell_type": "markdown",
   "metadata": {},
   "source": [
    "# VERIFICA FINALE"
   ]
  },
  {
   "attachments": {},
   "cell_type": "markdown",
   "metadata": {},
   "source": [
    "## Obiettivi\n",
    "\n",
    "Creazione di uno script in Python che esegua le seguenti operazioni:\n",
    "\n",
    "- leggere un file contenente dati strutturati in formato CSV, JSON oppure XML e ottenere un oggetto Python manipolabile;\n",
    "- filtrare i record provenienti dal file secondo uno o più criteri;\n",
    "- contare i record trovati applicando i suddetti filtri;\n",
    "- restituire all'utente un report con il conteggio, in un formato prestabilito.\n",
    "\n",
    "Lo script può essere scritto un file nativo di Python (formato `.py`) oppure in una cella di codice all'interno di un file di Jupyter Notebook (formato `.ipynb`)."
   ]
  },
  {
   "attachments": {},
   "cell_type": "markdown",
   "metadata": {},
   "source": [
    "## Dati di input\n",
    "\n",
    "I dati di input (nome file e parametri dei filtri) possono essere:\n",
    "\n",
    "- scritti direttamente all'interno del codice, come variabili;\n",
    "- provenienti dall'utente, utilizzando `input()` e/o `sys.argv`.\n",
    "\n",
    "Scegli solo una una delle due precedenti modalità."
   ]
  },
  {
   "attachments": {},
   "cell_type": "markdown",
   "metadata": {},
   "source": [
    "## Requisiti\n",
    "\n",
    "Moduli built-in `csv`, `json` o `lxml` (terze parti)."
   ]
  },
  {
   "attachments": {},
   "cell_type": "markdown",
   "metadata": {},
   "source": [
    "## Consegna\n",
    "\n",
    "Il Comune di Torino ha pubblicato un [*dataset* contenente dati riguardanti le attività commerciali](http://www.datiopen.it/it/opendata/Comune_di_Torino_Attivit_commerciali) sul suo terrirorio. Il dataset contiene un elenco di negozi e attività commerciali con vari dati, tra cui l'anno di inizio attività, la superficie occupata in metri quadrati e il Codice di Avviamento Postale (CAP).\n",
    "\n",
    "> Il tuo obiettivo è quello di contare quante attività commerciali del Comune di Torino sono state avviate dopo il 2011, hanno una superficie maggiore o uguale a 150 metri quadrati e si trovano nelle zone di Millefonti, Lingotto e Filadelfia, che corrispondono grosso modo ai CAP 10126, 10127 e 10134. Guardando sullo stradario, decidi che questi CAP rappresentano in modo accettabile l'area territoriale di tuo interesse.\n",
    "\n",
    "Schematizzando, devi ottenere la seguente informazione:\n",
    "\n",
    "- Numero di attività commerciali che hanno le seguenti caratteristiche:\n",
    "    - L'anno di inizio dell'attività (`Anno inizio attivita`) è uguale o successivo al `2011`.\n",
    "    - La superficie \"`Mq tot locale`\" è maggiore o uguale a `150` mq.\n",
    "    - Il codice di avviamento postale `Cap` è `10126` oppure `10127` oppure `10134`."
   ]
  },
  {
   "attachments": {},
   "cell_type": "markdown",
   "metadata": {},
   "source": [
    "## Dataset\n",
    "\n",
    "I dati sono disponibili in vari formati: CSV, JSON e XML.\n",
    "\n",
    "http://www.datiopen.it/it/opendata/Comune_di_Torino_Attivit_commerciali\n",
    "\n",
    "- [Comune-di-Torino---Attivita-commerciali.csv](http://www.datiopen.it/export/csv/Comune-di-Torino---Attivita-commerciali.csv)\n",
    "- [Comune-di-Torino---Attivita-commerciali.json](http://www.datiopen.it/export/json/Comune-di-Torino---Attivita-commerciali.json)\n",
    "- [Comune-di-Torino---Attivita-commerciali.xml](http://www.datiopen.it/export/xml/Comune-di-Torino---Attivita-commerciali.xml)\n",
    "\n",
    "Scaricate il formato a voi più congeniale e su quella base di dati scrivete il vostro programma in Python."
   ]
  },
  {
   "attachments": {},
   "cell_type": "markdown",
   "metadata": {},
   "source": [
    "## Campi\n",
    "\n",
    "Ricapitolando, i dati che ti interessano sono:\n",
    "\n",
    "- anno dell'inizio dell'attività commerciale: campo `Anno inizio attivita`.\n",
    "- superficie totale dei locali dell'attività commerciale: campo `Mq tot locale`.\n",
    "- codice di avviamento postale: campo `Cap`.\n"
   ]
  },
  {
   "cell_type": "code",
   "execution_count": null,
   "metadata": {},
   "outputs": [],
   "source": []
  },
  {
   "cell_type": "code",
   "execution_count": null,
   "metadata": {},
   "outputs": [],
   "source": []
  },
  {
   "attachments": {},
   "cell_type": "markdown",
   "metadata": {},
   "source": [
    "## Output atteso (report):\n",
    "\n",
    "Il tuo programma dovrebbe restituire il seguente output (stampato a monitor):\n",
    "<pre>\n",
    "Numero di attività commerciali trovate: TUO RISULTATO\n",
    "</pre>"
   ]
  },
  {
   "attachments": {},
   "cell_type": "markdown",
   "metadata": {},
   "source": [
    "## Svolgimento"
   ]
  },
  {
   "attachments": {},
   "cell_type": "markdown",
   "metadata": {},
   "source": [
    "Scrivi lo script qua sotto e consegna questo file, altrimenti crea un nuovo file `.py` e consegna lo script."
   ]
  },
  {
   "cell_type": "code",
   "execution_count": 5,
   "metadata": {},
   "outputs": [
    {
     "name": "stdout",
     "output_type": "stream",
     "text": [
      "Numero di attività commerciali trovate:  35\n"
     ]
    }
   ],
   "source": [
    "import csv\n",
    "from pprint import pprint\n",
    "\n",
    "# Contatori per il report\n",
    "tot_attivita = 0\n",
    "#percorso assoluto\n",
    "#with open(r'C:\\PPBC02\\PPBC02\\_personale\\Esame\\Comune-di-Torino---Attivita-commerciali.csv',\"r\") as data:\n",
    "#percorso relativo\n",
    "with open(r'.\\Comune-di-Torino---Attivita-commerciali.csv',\"r\") as data:\n",
    "    data_to_dict = csv.DictReader(data, delimiter=\";\")\n",
    "    for line in data_to_dict:\n",
    "        if (line[\"Anno inizio attivita\"]).isnumeric():\n",
    "            if int(line[\"Anno inizio attivita\"])>=2011:\n",
    "                if (line[\"Mq tot locale\"]).isnumeric():\n",
    "                    if int(line[\"Mq tot locale\"])>=150:\n",
    "                        if int(line[\"Cap\"])in [10126,10127,10134]:\n",
    "                            tot_attivita+=1\n",
    "                    \n",
    "    print(\"Numero di attività commerciali trovate: \",tot_attivita)\n"
   ]
  },
  {
   "cell_type": "markdown",
   "metadata": {},
   "source": [
    "## Filtro dinamico"
   ]
  },
  {
   "attachments": {},
   "cell_type": "markdown",
   "metadata": {},
   "source": [
    "Creo il filtro dinamico su anno, MQ e cap"
   ]
  },
  {
   "cell_type": "code",
   "execution_count": 4,
   "metadata": {},
   "outputs": [
    {
     "ename": "ValueError",
     "evalue": "invalid literal for int() with base 10: ''",
     "output_type": "error",
     "traceback": [
      "\u001b[1;31m---------------------------------------------------------------------------\u001b[0m",
      "\u001b[1;31mValueError\u001b[0m                                Traceback (most recent call last)",
      "Cell \u001b[1;32mIn[4], line 31\u001b[0m\n\u001b[0;32m     28\u001b[0m         capzone\u001b[39m.\u001b[39madd((line[\u001b[39m\"\u001b[39m\u001b[39mCap\u001b[39m\u001b[39m\"\u001b[39m]))\n\u001b[0;32m     29\u001b[0m \u001b[39m#print(annomax,annomin,MQmax,MQmin)\u001b[39;00m\n\u001b[0;32m     30\u001b[0m \u001b[39m#pprint(capzone)\u001b[39;00m\n\u001b[1;32m---> 31\u001b[0m annofilt\u001b[39m=\u001b[39m\u001b[39mint\u001b[39;49m(\u001b[39minput\u001b[39;49m(\u001b[39mf\u001b[39;49m\u001b[39m\"\u001b[39;49m\u001b[39mInserisci l\u001b[39;49m\u001b[39m'\u001b[39;49m\u001b[39manno di filtro compreso tra:\u001b[39;49m\u001b[39m{\u001b[39;49;00mannomin\u001b[39m}\u001b[39;49;00m\u001b[39m e \u001b[39;49m\u001b[39m{\u001b[39;49;00mannomax\u001b[39m}\u001b[39;49;00m\u001b[39m: \u001b[39;49m\u001b[39m\"\u001b[39;49m))\n\u001b[0;32m     32\u001b[0m \u001b[39mif\u001b[39;00m annofilt\u001b[39m>\u001b[39mannomax \u001b[39mor\u001b[39;00m annofilt\u001b[39m<\u001b[39mannomin:\n\u001b[0;32m     33\u001b[0m     \u001b[39mprint\u001b[39m(\u001b[39m\"\u001b[39m\u001b[39mdato errato\u001b[39m\u001b[39m\"\u001b[39m)\n",
      "\u001b[1;31mValueError\u001b[0m: invalid literal for int() with base 10: ''"
     ]
    }
   ],
   "source": [
    "import csv\n",
    "from pprint import pprint\n",
    "\n",
    "# Contatori per il report\n",
    "tot_attivita = 0\n",
    "annomin=3000\n",
    "annomax=0\n",
    "MQmin=3000\n",
    "MQmax=0\n",
    "capzone=set()\n",
    "#percorso assoluto\n",
    "#with open(r'C:\\PPBC02\\PPBC02\\_personale\\Esame\\Comune-di-Torino---Attivita-commerciali.csv',\"r\") as data:\n",
    "#percorso relativo\n",
    "with open(r'.\\Comune-di-Torino---Attivita-commerciali.csv',\"r\") as data:\n",
    "    data_to_dict = csv.DictReader(data, delimiter=\";\")\n",
    "    for line in data_to_dict:\n",
    "        if (line[\"Anno inizio attivita\"]).isnumeric():\n",
    "            if int(line[\"Anno inizio attivita\"])>=annomax:\n",
    "                annomax=int(line[\"Anno inizio attivita\"])\n",
    "            if int(line[\"Anno inizio attivita\"])<=annomin:\n",
    "                annomin=int(line[\"Anno inizio attivita\"])\n",
    "        if (line[\"Mq tot locale\"]).isnumeric():\n",
    "            if int(line[\"Mq tot locale\"])>=MQmax:\n",
    "                MQmax=int(line[\"Mq tot locale\"])\n",
    "            if int(line[\"Mq tot locale\"])<=MQmin:\n",
    "                MQmin=int(line[\"Mq tot locale\"])\n",
    "        if (line[\"Cap\"]).isnumeric():\n",
    "            capzone.add((line[\"Cap\"]))\n",
    "    #print(annomax,annomin,MQmax,MQmin)\n",
    "    #pprint(capzone)\n",
    "    annofilt=int(input(f\"Inserisci l'anno di filtro compreso tra:{annomin} e {annomax}: \"))\n",
    "    if annofilt>annomax or annofilt<annomin:\n",
    "        print(\"dato errato\")\n",
    "    Mqflit=int(input(f\"Inserisci l'anno di filtro compreso tra:{MQmin} e {MQmax}: \"))\n",
    "    if Mqflit>MQmax or Mqflit<MQmin:\n",
    "        print(\"dato errato\")\n",
    "    PPrint(capzone)\n",
    "    Capflit=int(input(f\"Inserisci il cap compreso tra:{MQmin} e {MQmax}: \"))\n",
    "    if Capflit not in capzone :\n",
    "        print(\"dato errato\")\n",
    "    \n",
    "    \n",
    "\n",
    "    for line in data_to_dict:\n",
    "        if int(line[\"Anno inizio attivita\"])>=2011:\n",
    "            if (line[\"Mq tot locale\"]).isnumeric():\n",
    "                if int(line[\"Mq tot locale\"])>=150:\n",
    "                    if int(line[\"Cap\"])in [10126,10127,10134]:\n",
    "                        tot_attivita+=1\n",
    "                    \n",
    "    print(\"Numero di attività commerciali trovate: \",tot_attivita)"
   ]
  }
 ],
 "metadata": {
  "kernelspec": {
   "display_name": "Python 3",
   "language": "python",
   "name": "python3"
  },
  "language_info": {
   "codemirror_mode": {
    "name": "ipython",
    "version": 3
   },
   "file_extension": ".py",
   "mimetype": "text/x-python",
   "name": "python",
   "nbconvert_exporter": "python",
   "pygments_lexer": "ipython3",
   "version": "3.11.8"
  },
  "orig_nbformat": 4
 },
 "nbformat": 4,
 "nbformat_minor": 2
}
